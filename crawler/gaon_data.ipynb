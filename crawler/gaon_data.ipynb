{
 "cells": [
  {
   "cell_type": "markdown",
   "metadata": {},
   "source": [
    "## Merge Circle chart Data\n",
    "\n",
    "매주 둘째주 목요일 오전 10시에 써클차트(https://circlechart.kr/)에 음반판매량이 업데이트 됨\n",
    "\n",
    "써클차트는 국내 및 글로벌 음악 서비스 플랫폼의 K-pop 데이터를 정식 공급받는 국내 음악차트이며, 써클차트의 월간 음반 판매량은 연예기획사들의 매달 실적을 추정할 수 있는 좋은 지표입니다."
   ]
  },
  {
   "cell_type": "code",
   "execution_count": 32,
   "metadata": {},
   "outputs": [],
   "source": [
    "CHART_PATH = '../data/global_kpop_chart.csv'\n",
    "ALBUM_PATH = '../data/album_chart.csv'\n",
    "OUTPUT_PATH = '../data/global_kpop_chart_cleanup3.xlsx'"
   ]
  },
  {
   "cell_type": "code",
   "execution_count": 33,
   "metadata": {},
   "outputs": [],
   "source": [
    "import pandas as pd\n",
    "import numpy as np"
   ]
  },
  {
   "cell_type": "code",
   "execution_count": 34,
   "outputs": [],
   "source": [
    "global_chart = pd.read_csv(CHART_PATH, usecols=['month', 'artist', 'producer', 'album', 'title'])\n",
    "global_chart = global_chart.astype({\n",
    "    'month': 'int32',\n",
    "    'artist': 'string',\n",
    "    'producer': 'string',\n",
    "    'album': 'string',\n",
    "    'title': 'string'\n",
    "}, errors='raise')\n",
    "global_chart['artist'] = global_chart['artist'].str.split(pat='|', n=1).str[0]\n",
    "global_chart = global_chart.drop_duplicates(subset=['artist', 'producer'], keep='first')\n",
    "global_chart = global_chart.astype({'artist': 'string'}, errors='raise')"
   ],
   "metadata": {
    "collapsed": false
   }
  },
  {
   "cell_type": "code",
   "execution_count": 35,
   "outputs": [
    {
     "name": "stdout",
     "output_type": "stream",
     "text": [
      "<class 'pandas.core.frame.DataFrame'>\n",
      "Int64Index: 206 entries, 0 to 1933\n",
      "Data columns (total 5 columns):\n",
      " #   Column    Non-Null Count  Dtype \n",
      "---  ------    --------------  ----- \n",
      " 0   month     206 non-null    int32 \n",
      " 1   album     206 non-null    string\n",
      " 2   artist    206 non-null    string\n",
      " 3   producer  206 non-null    string\n",
      " 4   title     206 non-null    string\n",
      "dtypes: int32(1), string(4)\n",
      "memory usage: 8.9 KB\n"
     ]
    }
   ],
   "source": [
    "global_chart.info()"
   ],
   "metadata": {
    "collapsed": false
   }
  },
  {
   "cell_type": "code",
   "execution_count": 36,
   "outputs": [],
   "source": [
    "album_chart = pd.read_csv(ALBUM_PATH, usecols=['month', 'artist', 'sales_volume', 'album'])\n",
    "album_chart = album_chart.astype({'month': 'int32', 'artist': 'string', 'album': 'string'}, errors='raise')\n",
    "album_chart[['monthly_sales', 'annual_sales']] = album_chart['sales_volume'].str.split(pat='/', n=1, expand=True)\n",
    "album_chart = album_chart.astype({'monthly_sales': 'int32', 'annual_sales': 'int32'}, errors='raise')\n",
    "album_chart = album_chart.drop(columns=['sales_volume']).drop_duplicates(['artist', 'month'])\n",
    "# Caution: Some artists has multiple agencies that has changed\n",
    "album_chart = album_chart.reindex(columns=['month', 'album', 'artist', 'monthly_sales', 'annual_sales'])\n",
    "album_chart = album_chart.sort_values(by=['month', 'monthly_sales'])"
   ],
   "metadata": {
    "collapsed": false
   }
  },
  {
   "cell_type": "code",
   "execution_count": 37,
   "outputs": [
    {
     "data": {
      "text/plain": "    month                                              album  \\\n98   1202                                    1집 Heartbreaker   \n92   1202                                              1집 열꽃   \n91   1202                                           GD & TOP   \n88   1202                                     1 (Remastered)   \n85   1202                We Sing. We Dance. We Steal Things.   \n80   1202                                         Guilt-Free   \n76   1202                                       Up All Night   \n74   1202  Mozart L'Opera Rock (뮤지컬 모짜르트 락 오페라) OST (Fran...   \n71   1202                                           Hands Up   \n70   1202                                         1집 So Cool   \n69   1202                                         5집 Tonight   \n65   1202                                 2집 For This Moment   \n61   1202                               2012 Grammy Nominees   \n60   1202                                 3집 O -正.反.合. (정반합)   \n57   1202                                         Butterfly    \n55   1202                     Mahler : Symphony No.1 'Titan'   \n53   1202                      The Essential Whitney Houston   \n52   1202                                            3집 Viva   \n51   1202              `Hot Summer` f(x) 1st Album Repackage   \n46   1202                                      Trouble Maker   \n\n                          artist  monthly_sales  annual_sales  \n98                      G-Dragon            832          1382  \n92                    타블로 (에픽하이)            915          2775  \n91                  GD, TOP (빅뱅)            943          2543  \n88                   The Beatles            953          1577  \n85                    Jason Mraz           1014          1795  \n80                   이이언 (eAeon)           1064          1806  \n76                 One Direction           1080          1080  \n74             Mozart Opera Rock           1099          1250  \n71                           2PM           1166          3287  \n70                  씨스타 (Sistar)           1187          2342  \n69                           이승기           1197          3265  \n65                  윤한 (Yoonhan)           1264          1264  \n61              Various Artists            1324          3459  \n60                          동방신기           1366          3021  \n57                L'Arc~En~Ciel            1396          1396  \n55  Seoul Philharmonic Orchestra           1404          1904  \n53               Whitney Houston           1528          1528  \n52           스윗소로우(Sweet Sorrow)           1579          6772  \n51                          f(x)           1580          2873  \n46                        트러블메이커           1714          4651  ",
      "text/html": "<div>\n<style scoped>\n    .dataframe tbody tr th:only-of-type {\n        vertical-align: middle;\n    }\n\n    .dataframe tbody tr th {\n        vertical-align: top;\n    }\n\n    .dataframe thead th {\n        text-align: right;\n    }\n</style>\n<table border=\"1\" class=\"dataframe\">\n  <thead>\n    <tr style=\"text-align: right;\">\n      <th></th>\n      <th>month</th>\n      <th>album</th>\n      <th>artist</th>\n      <th>monthly_sales</th>\n      <th>annual_sales</th>\n    </tr>\n  </thead>\n  <tbody>\n    <tr>\n      <th>98</th>\n      <td>1202</td>\n      <td>1집 Heartbreaker</td>\n      <td>G-Dragon</td>\n      <td>832</td>\n      <td>1382</td>\n    </tr>\n    <tr>\n      <th>92</th>\n      <td>1202</td>\n      <td>1집 열꽃</td>\n      <td>타블로 (에픽하이)</td>\n      <td>915</td>\n      <td>2775</td>\n    </tr>\n    <tr>\n      <th>91</th>\n      <td>1202</td>\n      <td>GD &amp; TOP</td>\n      <td>GD, TOP (빅뱅)</td>\n      <td>943</td>\n      <td>2543</td>\n    </tr>\n    <tr>\n      <th>88</th>\n      <td>1202</td>\n      <td>1 (Remastered)</td>\n      <td>The Beatles</td>\n      <td>953</td>\n      <td>1577</td>\n    </tr>\n    <tr>\n      <th>85</th>\n      <td>1202</td>\n      <td>We Sing. We Dance. We Steal Things.</td>\n      <td>Jason Mraz</td>\n      <td>1014</td>\n      <td>1795</td>\n    </tr>\n    <tr>\n      <th>80</th>\n      <td>1202</td>\n      <td>Guilt-Free</td>\n      <td>이이언 (eAeon)</td>\n      <td>1064</td>\n      <td>1806</td>\n    </tr>\n    <tr>\n      <th>76</th>\n      <td>1202</td>\n      <td>Up All Night</td>\n      <td>One Direction</td>\n      <td>1080</td>\n      <td>1080</td>\n    </tr>\n    <tr>\n      <th>74</th>\n      <td>1202</td>\n      <td>Mozart L'Opera Rock (뮤지컬 모짜르트 락 오페라) OST (Fran...</td>\n      <td>Mozart Opera Rock</td>\n      <td>1099</td>\n      <td>1250</td>\n    </tr>\n    <tr>\n      <th>71</th>\n      <td>1202</td>\n      <td>Hands Up</td>\n      <td>2PM</td>\n      <td>1166</td>\n      <td>3287</td>\n    </tr>\n    <tr>\n      <th>70</th>\n      <td>1202</td>\n      <td>1집 So Cool</td>\n      <td>씨스타 (Sistar)</td>\n      <td>1187</td>\n      <td>2342</td>\n    </tr>\n    <tr>\n      <th>69</th>\n      <td>1202</td>\n      <td>5집 Tonight</td>\n      <td>이승기</td>\n      <td>1197</td>\n      <td>3265</td>\n    </tr>\n    <tr>\n      <th>65</th>\n      <td>1202</td>\n      <td>2집 For This Moment</td>\n      <td>윤한 (Yoonhan)</td>\n      <td>1264</td>\n      <td>1264</td>\n    </tr>\n    <tr>\n      <th>61</th>\n      <td>1202</td>\n      <td>2012 Grammy Nominees</td>\n      <td>Various Artists</td>\n      <td>1324</td>\n      <td>3459</td>\n    </tr>\n    <tr>\n      <th>60</th>\n      <td>1202</td>\n      <td>3집 O -正.反.合. (정반합)</td>\n      <td>동방신기</td>\n      <td>1366</td>\n      <td>3021</td>\n    </tr>\n    <tr>\n      <th>57</th>\n      <td>1202</td>\n      <td>Butterfly</td>\n      <td>L'Arc~En~Ciel</td>\n      <td>1396</td>\n      <td>1396</td>\n    </tr>\n    <tr>\n      <th>55</th>\n      <td>1202</td>\n      <td>Mahler : Symphony No.1 'Titan'</td>\n      <td>Seoul Philharmonic Orchestra</td>\n      <td>1404</td>\n      <td>1904</td>\n    </tr>\n    <tr>\n      <th>53</th>\n      <td>1202</td>\n      <td>The Essential Whitney Houston</td>\n      <td>Whitney Houston</td>\n      <td>1528</td>\n      <td>1528</td>\n    </tr>\n    <tr>\n      <th>52</th>\n      <td>1202</td>\n      <td>3집 Viva</td>\n      <td>스윗소로우(Sweet Sorrow)</td>\n      <td>1579</td>\n      <td>6772</td>\n    </tr>\n    <tr>\n      <th>51</th>\n      <td>1202</td>\n      <td>`Hot Summer` f(x) 1st Album Repackage</td>\n      <td>f(x)</td>\n      <td>1580</td>\n      <td>2873</td>\n    </tr>\n    <tr>\n      <th>46</th>\n      <td>1202</td>\n      <td>Trouble Maker</td>\n      <td>트러블메이커</td>\n      <td>1714</td>\n      <td>4651</td>\n    </tr>\n  </tbody>\n</table>\n</div>"
     },
     "execution_count": 37,
     "metadata": {},
     "output_type": "execute_result"
    }
   ],
   "source": [
    "album_chart.head(20)"
   ],
   "metadata": {
    "collapsed": false
   }
  },
  {
   "cell_type": "code",
   "execution_count": 38,
   "outputs": [
    {
     "name": "stdout",
     "output_type": "stream",
     "text": [
      "<class 'pandas.core.frame.DataFrame'>\n",
      "Int64Index: 7709 entries, 98 to 12900\n",
      "Data columns (total 5 columns):\n",
      " #   Column         Non-Null Count  Dtype \n",
      "---  ------         --------------  ----- \n",
      " 0   month          7709 non-null   int32 \n",
      " 1   album          7709 non-null   string\n",
      " 2   artist         7709 non-null   string\n",
      " 3   monthly_sales  7709 non-null   int32 \n",
      " 4   annual_sales   7709 non-null   int32 \n",
      "dtypes: int32(3), string(2)\n",
      "memory usage: 271.0 KB\n"
     ]
    }
   ],
   "source": [
    "album_chart.info()"
   ],
   "metadata": {
    "collapsed": false
   }
  },
  {
   "cell_type": "code",
   "execution_count": 39,
   "metadata": {},
   "outputs": [],
   "source": [
    "# Search producer from producer dataframe and insert into new_sales\n",
    "new_sales = pd.merge(left=album_chart, right=global_chart, how='outer', on='artist')\n",
    "new_sales['month_y'] = new_sales['month_y'].fillna(1800)\n",
    "new_sales['producer'] = new_sales['producer'].fillna('미상')\n",
    "new_sales = new_sales.astype({'month_y': 'int32', 'artist': 'string', 'producer': 'string'}, errors='raise')\n",
    "# find the producer artist belonged to before the release of the album\n",
    "new_sales = new_sales.sort_values('month_y', ascending=True).drop_duplicates(['artist', 'month_x'])\n",
    "new_sales.rename(columns={'month_x': 'month', 'album_x': 'album'}, inplace=True)\n",
    "new_sales = new_sales.drop(columns=['month_y', 'album_y', 'title'])\n",
    "new_sales = new_sales.reindex(columns=['month', 'album', 'artist', 'producer', 'monthly_sales', 'annual_sales'])\n",
    "new_sales = new_sales.sort_values(by=['month', 'monthly_sales'])\n",
    "new_sales = new_sales.dropna(axis=\"index\")\n",
    "new_sales = new_sales.astype({'month': 'int32', 'annual_sales': 'int32', 'monthly_sales': 'int32'}, errors='raise')"
   ]
  },
  {
   "cell_type": "code",
   "execution_count": 40,
   "outputs": [
    {
     "data": {
      "text/plain": "      month                                album             artist producer  \\\n0      1202                      1집 Heartbreaker           G-Dragon       미상   \n39     1202                                1집 열꽃         타블로 (에픽하이)       미상   \n41     1202                             GD & TOP       GD, TOP (빅뱅)       미상   \n61     1202                       1 (Remastered)        The Beatles       미상   \n66     1202  We Sing. We Dance. We Steal Things.         Jason Mraz       미상   \n...     ...                                  ...                ...      ...   \n1566   1203      Get your Swag On (Single Album)  토니안 & 스매쉬 (Smash)       미상   \n1281   1203                              Warrior              B.A.P       미상   \n1567   1203       Gift : E.C.H.O (Special Album)                박효신       미상   \n1583   1203                        Face (Single)      뉴이스트 (NU`EST)       미상   \n1358   1203                 Welcome To The Block      블락비 (Block B)       미상   \n\n      monthly_sales  annual_sales  \n0               832          1382  \n39              915          2775  \n41              943          2543  \n61              953          1577  \n66             1014          1795  \n...             ...           ...  \n1566           5732          5732  \n1281           5888         23821  \n1567           6241          6241  \n1583           6462          6462  \n1358           9374         31347  \n\n[100 rows x 6 columns]",
      "text/html": "<div>\n<style scoped>\n    .dataframe tbody tr th:only-of-type {\n        vertical-align: middle;\n    }\n\n    .dataframe tbody tr th {\n        vertical-align: top;\n    }\n\n    .dataframe thead th {\n        text-align: right;\n    }\n</style>\n<table border=\"1\" class=\"dataframe\">\n  <thead>\n    <tr style=\"text-align: right;\">\n      <th></th>\n      <th>month</th>\n      <th>album</th>\n      <th>artist</th>\n      <th>producer</th>\n      <th>monthly_sales</th>\n      <th>annual_sales</th>\n    </tr>\n  </thead>\n  <tbody>\n    <tr>\n      <th>0</th>\n      <td>1202</td>\n      <td>1집 Heartbreaker</td>\n      <td>G-Dragon</td>\n      <td>미상</td>\n      <td>832</td>\n      <td>1382</td>\n    </tr>\n    <tr>\n      <th>39</th>\n      <td>1202</td>\n      <td>1집 열꽃</td>\n      <td>타블로 (에픽하이)</td>\n      <td>미상</td>\n      <td>915</td>\n      <td>2775</td>\n    </tr>\n    <tr>\n      <th>41</th>\n      <td>1202</td>\n      <td>GD &amp; TOP</td>\n      <td>GD, TOP (빅뱅)</td>\n      <td>미상</td>\n      <td>943</td>\n      <td>2543</td>\n    </tr>\n    <tr>\n      <th>61</th>\n      <td>1202</td>\n      <td>1 (Remastered)</td>\n      <td>The Beatles</td>\n      <td>미상</td>\n      <td>953</td>\n      <td>1577</td>\n    </tr>\n    <tr>\n      <th>66</th>\n      <td>1202</td>\n      <td>We Sing. We Dance. We Steal Things.</td>\n      <td>Jason Mraz</td>\n      <td>미상</td>\n      <td>1014</td>\n      <td>1795</td>\n    </tr>\n    <tr>\n      <th>...</th>\n      <td>...</td>\n      <td>...</td>\n      <td>...</td>\n      <td>...</td>\n      <td>...</td>\n      <td>...</td>\n    </tr>\n    <tr>\n      <th>1566</th>\n      <td>1203</td>\n      <td>Get your Swag On (Single Album)</td>\n      <td>토니안 &amp; 스매쉬 (Smash)</td>\n      <td>미상</td>\n      <td>5732</td>\n      <td>5732</td>\n    </tr>\n    <tr>\n      <th>1281</th>\n      <td>1203</td>\n      <td>Warrior</td>\n      <td>B.A.P</td>\n      <td>미상</td>\n      <td>5888</td>\n      <td>23821</td>\n    </tr>\n    <tr>\n      <th>1567</th>\n      <td>1203</td>\n      <td>Gift : E.C.H.O (Special Album)</td>\n      <td>박효신</td>\n      <td>미상</td>\n      <td>6241</td>\n      <td>6241</td>\n    </tr>\n    <tr>\n      <th>1583</th>\n      <td>1203</td>\n      <td>Face (Single)</td>\n      <td>뉴이스트 (NU`EST)</td>\n      <td>미상</td>\n      <td>6462</td>\n      <td>6462</td>\n    </tr>\n    <tr>\n      <th>1358</th>\n      <td>1203</td>\n      <td>Welcome To The Block</td>\n      <td>블락비 (Block B)</td>\n      <td>미상</td>\n      <td>9374</td>\n      <td>31347</td>\n    </tr>\n  </tbody>\n</table>\n<p>100 rows × 6 columns</p>\n</div>"
     },
     "execution_count": 40,
     "metadata": {},
     "output_type": "execute_result"
    }
   ],
   "source": [
    "new_sales.head(100)"
   ],
   "metadata": {
    "collapsed": false
   }
  },
  {
   "cell_type": "code",
   "execution_count": 41,
   "outputs": [
    {
     "name": "stdout",
     "output_type": "stream",
     "text": [
      "<class 'pandas.core.frame.DataFrame'>\n",
      "Int64Index: 7709 entries, 0 to 6879\n",
      "Data columns (total 6 columns):\n",
      " #   Column         Non-Null Count  Dtype \n",
      "---  ------         --------------  ----- \n",
      " 0   month          7709 non-null   int32 \n",
      " 1   album          7709 non-null   string\n",
      " 2   artist         7709 non-null   string\n",
      " 3   producer       7709 non-null   string\n",
      " 4   monthly_sales  7709 non-null   int32 \n",
      " 5   annual_sales   7709 non-null   int32 \n",
      "dtypes: int32(3), string(3)\n",
      "memory usage: 331.2 KB\n"
     ]
    }
   ],
   "source": [
    "new_sales.info()"
   ],
   "metadata": {
    "collapsed": false
   }
  },
  {
   "cell_type": "code",
   "execution_count": 42,
   "metadata": {},
   "outputs": [],
   "source": [
    "sales_table = pd.pivot_table(\n",
    "    new_sales,\n",
    "    values=\"monthly_sales\",\n",
    "    index=['producer', 'artist', 'album'],\n",
    "    columns=\"month\",\n",
    "    aggfunc=np.sum\n",
    ").fillna(0)"
   ]
  },
  {
   "cell_type": "code",
   "execution_count": 48,
   "outputs": [
    {
     "name": "stdout",
     "output_type": "stream",
     "text": [
      "<class 'pandas.core.frame.DataFrame'>\n",
      "MultiIndex: 3758 entries, ('ADOR', 'NewJeans', '1st EP `New Jeans`') to ('하이업엔터테인먼트', 'STAYC(스테이씨)', 'YOUNG-LUV.COM')\n",
      "Columns: 127 entries, 1202 to 2209\n",
      "dtypes: float64(127)\n",
      "memory usage: 3.8+ MB\n"
     ]
    }
   ],
   "source": [
    "sales_table.info()"
   ],
   "metadata": {
    "collapsed": false
   }
  },
  {
   "cell_type": "code",
   "execution_count": 43,
   "outputs": [
    {
     "data": {
      "text/plain": "month                                                                                          1202  \\\nproducer                              artist                  album                                   \nADOR                                  NewJeans                1st EP `New Jeans`                0.0   \n                                                              1st EP `New Jeans` (Weverse)      0.0   \nAMBITION MUSIK, Daytona Entertainment 릴러말즈 (Leellamarz), TOIL TOYSTORY3                         0.0   \nAOMG                                  박재범                     1집 New Breed                  73841.0   \n                                                              EVERYTHING YOU WANTED             0.0   \n...                                                                                             ...   \nJYP Entertainment                     TWICE                   Taste of Love                     0.0   \n                                                              The year of `YES`                 0.0   \n                                                              What is Love?                     0.0   \n                                                              YES or YES                        0.0   \n                                                              twicetagram                       0.0   \n\nmonth                                                                                       1203  \\\nproducer                              artist                  album                                \nADOR                                  NewJeans                1st EP `New Jeans`             0.0   \n                                                              1st EP `New Jeans` (Weverse)   0.0   \nAMBITION MUSIK, Daytona Entertainment 릴러말즈 (Leellamarz), TOIL TOYSTORY3                      0.0   \nAOMG                                  박재범                     1집 New Breed                   0.0   \n                                                              EVERYTHING YOU WANTED          0.0   \n...                                                                                          ...   \nJYP Entertainment                     TWICE                   Taste of Love                  0.0   \n                                                              The year of `YES`              0.0   \n                                                              What is Love?                  0.0   \n                                                              YES or YES                     0.0   \n                                                              twicetagram                    0.0   \n\nmonth                                                                                       1204  \\\nproducer                              artist                  album                                \nADOR                                  NewJeans                1st EP `New Jeans`             0.0   \n                                                              1st EP `New Jeans` (Weverse)   0.0   \nAMBITION MUSIK, Daytona Entertainment 릴러말즈 (Leellamarz), TOIL TOYSTORY3                      0.0   \nAOMG                                  박재범                     1집 New Breed                   0.0   \n                                                              EVERYTHING YOU WANTED          0.0   \n...                                                                                          ...   \nJYP Entertainment                     TWICE                   Taste of Love                  0.0   \n                                                              The year of `YES`              0.0   \n                                                              What is Love?                  0.0   \n                                                              YES or YES                     0.0   \n                                                              twicetagram                    0.0   \n\nmonth                                                                                       1205  \\\nproducer                              artist                  album                                \nADOR                                  NewJeans                1st EP `New Jeans`             0.0   \n                                                              1st EP `New Jeans` (Weverse)   0.0   \nAMBITION MUSIK, Daytona Entertainment 릴러말즈 (Leellamarz), TOIL TOYSTORY3                      0.0   \nAOMG                                  박재범                     1집 New Breed                   0.0   \n                                                              EVERYTHING YOU WANTED          0.0   \n...                                                                                          ...   \nJYP Entertainment                     TWICE                   Taste of Love                  0.0   \n                                                              The year of `YES`              0.0   \n                                                              What is Love?                  0.0   \n                                                              YES or YES                     0.0   \n                                                              twicetagram                    0.0   \n\nmonth                                                                                       1206  \\\nproducer                              artist                  album                                \nADOR                                  NewJeans                1st EP `New Jeans`             0.0   \n                                                              1st EP `New Jeans` (Weverse)   0.0   \nAMBITION MUSIK, Daytona Entertainment 릴러말즈 (Leellamarz), TOIL TOYSTORY3                      0.0   \nAOMG                                  박재범                     1집 New Breed                   0.0   \n                                                              EVERYTHING YOU WANTED          0.0   \n...                                                                                          ...   \nJYP Entertainment                     TWICE                   Taste of Love                  0.0   \n                                                              The year of `YES`              0.0   \n                                                              What is Love?                  0.0   \n                                                              YES or YES                     0.0   \n                                                              twicetagram                    0.0   \n\nmonth                                                                                       1207  \\\nproducer                              artist                  album                                \nADOR                                  NewJeans                1st EP `New Jeans`             0.0   \n                                                              1st EP `New Jeans` (Weverse)   0.0   \nAMBITION MUSIK, Daytona Entertainment 릴러말즈 (Leellamarz), TOIL TOYSTORY3                      0.0   \nAOMG                                  박재범                     1집 New Breed                   0.0   \n                                                              EVERYTHING YOU WANTED          0.0   \n...                                                                                          ...   \nJYP Entertainment                     TWICE                   Taste of Love                  0.0   \n                                                              The year of `YES`              0.0   \n                                                              What is Love?                  0.0   \n                                                              YES or YES                     0.0   \n                                                              twicetagram                    0.0   \n\nmonth                                                                                       1208  \\\nproducer                              artist                  album                                \nADOR                                  NewJeans                1st EP `New Jeans`             0.0   \n                                                              1st EP `New Jeans` (Weverse)   0.0   \nAMBITION MUSIK, Daytona Entertainment 릴러말즈 (Leellamarz), TOIL TOYSTORY3                      0.0   \nAOMG                                  박재범                     1집 New Breed                   0.0   \n                                                              EVERYTHING YOU WANTED          0.0   \n...                                                                                          ...   \nJYP Entertainment                     TWICE                   Taste of Love                  0.0   \n                                                              The year of `YES`              0.0   \n                                                              What is Love?                  0.0   \n                                                              YES or YES                     0.0   \n                                                              twicetagram                    0.0   \n\nmonth                                                                                       1209  \\\nproducer                              artist                  album                                \nADOR                                  NewJeans                1st EP `New Jeans`             0.0   \n                                                              1st EP `New Jeans` (Weverse)   0.0   \nAMBITION MUSIK, Daytona Entertainment 릴러말즈 (Leellamarz), TOIL TOYSTORY3                      0.0   \nAOMG                                  박재범                     1집 New Breed                   0.0   \n                                                              EVERYTHING YOU WANTED          0.0   \n...                                                                                          ...   \nJYP Entertainment                     TWICE                   Taste of Love                  0.0   \n                                                              The year of `YES`              0.0   \n                                                              What is Love?                  0.0   \n                                                              YES or YES                     0.0   \n                                                              twicetagram                    0.0   \n\nmonth                                                                                       1210  \\\nproducer                              artist                  album                                \nADOR                                  NewJeans                1st EP `New Jeans`             0.0   \n                                                              1st EP `New Jeans` (Weverse)   0.0   \nAMBITION MUSIK, Daytona Entertainment 릴러말즈 (Leellamarz), TOIL TOYSTORY3                      0.0   \nAOMG                                  박재범                     1집 New Breed                   0.0   \n                                                              EVERYTHING YOU WANTED          0.0   \n...                                                                                          ...   \nJYP Entertainment                     TWICE                   Taste of Love                  0.0   \n                                                              The year of `YES`              0.0   \n                                                              What is Love?                  0.0   \n                                                              YES or YES                     0.0   \n                                                              twicetagram                    0.0   \n\nmonth                                                                                       1211  \\\nproducer                              artist                  album                                \nADOR                                  NewJeans                1st EP `New Jeans`             0.0   \n                                                              1st EP `New Jeans` (Weverse)   0.0   \nAMBITION MUSIK, Daytona Entertainment 릴러말즈 (Leellamarz), TOIL TOYSTORY3                      0.0   \nAOMG                                  박재범                     1집 New Breed                   0.0   \n                                                              EVERYTHING YOU WANTED          0.0   \n...                                                                                          ...   \nJYP Entertainment                     TWICE                   Taste of Love                  0.0   \n                                                              The year of `YES`              0.0   \n                                                              What is Love?                  0.0   \n                                                              YES or YES                     0.0   \n                                                              twicetagram                    0.0   \n\nmonth                                                                                       ...  \\\nproducer                              artist                  album                         ...   \nADOR                                  NewJeans                1st EP `New Jeans`            ...   \n                                                              1st EP `New Jeans` (Weverse)  ...   \nAMBITION MUSIK, Daytona Entertainment 릴러말즈 (Leellamarz), TOIL TOYSTORY3                     ...   \nAOMG                                  박재범                     1집 New Breed                  ...   \n                                                              EVERYTHING YOU WANTED         ...   \n...                                                                                         ...   \nJYP Entertainment                     TWICE                   Taste of Love                 ...   \n                                                              The year of `YES`             ...   \n                                                              What is Love?                 ...   \n                                                              YES or YES                    ...   \n                                                              twicetagram                   ...   \n\nmonth                                                                                       2112  \\\nproducer                              artist                  album                                \nADOR                                  NewJeans                1st EP `New Jeans`             0.0   \n                                                              1st EP `New Jeans` (Weverse)   0.0   \nAMBITION MUSIK, Daytona Entertainment 릴러말즈 (Leellamarz), TOIL TOYSTORY3                      0.0   \nAOMG                                  박재범                     1집 New Breed                   0.0   \n                                                              EVERYTHING YOU WANTED          0.0   \n...                                                                                          ...   \nJYP Entertainment                     TWICE                   Taste of Love                  0.0   \n                                                              The year of `YES`              0.0   \n                                                              What is Love?                  0.0   \n                                                              YES or YES                     0.0   \n                                                              twicetagram                    0.0   \n\nmonth                                                                                       2201  \\\nproducer                              artist                  album                                \nADOR                                  NewJeans                1st EP `New Jeans`             0.0   \n                                                              1st EP `New Jeans` (Weverse)   0.0   \nAMBITION MUSIK, Daytona Entertainment 릴러말즈 (Leellamarz), TOIL TOYSTORY3                      0.0   \nAOMG                                  박재범                     1집 New Breed                   0.0   \n                                                              EVERYTHING YOU WANTED          0.0   \n...                                                                                          ...   \nJYP Entertainment                     TWICE                   Taste of Love                  0.0   \n                                                              The year of `YES`              0.0   \n                                                              What is Love?                  0.0   \n                                                              YES or YES                     0.0   \n                                                              twicetagram                    0.0   \n\nmonth                                                                                       2202  \\\nproducer                              artist                  album                                \nADOR                                  NewJeans                1st EP `New Jeans`             0.0   \n                                                              1st EP `New Jeans` (Weverse)   0.0   \nAMBITION MUSIK, Daytona Entertainment 릴러말즈 (Leellamarz), TOIL TOYSTORY3                      0.0   \nAOMG                                  박재범                     1집 New Breed                   0.0   \n                                                              EVERYTHING YOU WANTED          0.0   \n...                                                                                          ...   \nJYP Entertainment                     TWICE                   Taste of Love                  0.0   \n                                                              The year of `YES`              0.0   \n                                                              What is Love?                  0.0   \n                                                              YES or YES                     0.0   \n                                                              twicetagram                    0.0   \n\nmonth                                                                                       2203  \\\nproducer                              artist                  album                                \nADOR                                  NewJeans                1st EP `New Jeans`             0.0   \n                                                              1st EP `New Jeans` (Weverse)   0.0   \nAMBITION MUSIK, Daytona Entertainment 릴러말즈 (Leellamarz), TOIL TOYSTORY3                      0.0   \nAOMG                                  박재범                     1집 New Breed                   0.0   \n                                                              EVERYTHING YOU WANTED          0.0   \n...                                                                                          ...   \nJYP Entertainment                     TWICE                   Taste of Love                  0.0   \n                                                              The year of `YES`              0.0   \n                                                              What is Love?                  0.0   \n                                                              YES or YES                     0.0   \n                                                              twicetagram                    0.0   \n\nmonth                                                                                       2204  \\\nproducer                              artist                  album                                \nADOR                                  NewJeans                1st EP `New Jeans`             0.0   \n                                                              1st EP `New Jeans` (Weverse)   0.0   \nAMBITION MUSIK, Daytona Entertainment 릴러말즈 (Leellamarz), TOIL TOYSTORY3                      0.0   \nAOMG                                  박재범                     1집 New Breed                   0.0   \n                                                              EVERYTHING YOU WANTED          0.0   \n...                                                                                          ...   \nJYP Entertainment                     TWICE                   Taste of Love                  0.0   \n                                                              The year of `YES`              0.0   \n                                                              What is Love?                  0.0   \n                                                              YES or YES                     0.0   \n                                                              twicetagram                    0.0   \n\nmonth                                                                                       2205  \\\nproducer                              artist                  album                                \nADOR                                  NewJeans                1st EP `New Jeans`             0.0   \n                                                              1st EP `New Jeans` (Weverse)   0.0   \nAMBITION MUSIK, Daytona Entertainment 릴러말즈 (Leellamarz), TOIL TOYSTORY3                      0.0   \nAOMG                                  박재범                     1집 New Breed                   0.0   \n                                                              EVERYTHING YOU WANTED          0.0   \n...                                                                                          ...   \nJYP Entertainment                     TWICE                   Taste of Love                  0.0   \n                                                              The year of `YES`              0.0   \n                                                              What is Love?                  0.0   \n                                                              YES or YES                     0.0   \n                                                              twicetagram                    0.0   \n\nmonth                                                                                          2206  \\\nproducer                              artist                  album                                   \nADOR                                  NewJeans                1st EP `New Jeans`                0.0   \n                                                              1st EP `New Jeans` (Weverse)      0.0   \nAMBITION MUSIK, Daytona Entertainment 릴러말즈 (Leellamarz), TOIL TOYSTORY3                         0.0   \nAOMG                                  박재범                     1집 New Breed                      0.0   \n                                                              EVERYTHING YOU WANTED             0.0   \n...                                                                                             ...   \nJYP Entertainment                     TWICE                   Taste of Love                     0.0   \n                                                              The year of `YES`                 0.0   \n                                                              What is Love?                 25000.0   \n                                                              YES or YES                        0.0   \n                                                              twicetagram                       0.0   \n\nmonth                                                                                         2207  \\\nproducer                              artist                  album                                  \nADOR                                  NewJeans                1st EP `New Jeans`               0.0   \n                                                              1st EP `New Jeans` (Weverse)     0.0   \nAMBITION MUSIK, Daytona Entertainment 릴러말즈 (Leellamarz), TOIL TOYSTORY3                     7313.0   \nAOMG                                  박재범                     1집 New Breed                     0.0   \n                                                              EVERYTHING YOU WANTED            0.0   \n...                                                                                            ...   \nJYP Entertainment                     TWICE                   Taste of Love                    0.0   \n                                                              The year of `YES`                0.0   \n                                                              What is Love?                    0.0   \n                                                              YES or YES                       0.0   \n                                                              twicetagram                      0.0   \n\nmonth                                                                                           2208  \\\nproducer                              artist                  album                                    \nADOR                                  NewJeans                1st EP `New Jeans`                 0.0   \n                                                              1st EP `New Jeans` (Weverse)  135103.0   \nAMBITION MUSIK, Daytona Entertainment 릴러말즈 (Leellamarz), TOIL TOYSTORY3                          0.0   \nAOMG                                  박재범                     1집 New Breed                       0.0   \n                                                              EVERYTHING YOU WANTED              0.0   \n...                                                                                              ...   \nJYP Entertainment                     TWICE                   Taste of Love                      0.0   \n                                                              The year of `YES`                  0.0   \n                                                              What is Love?                      0.0   \n                                                              YES or YES                         0.0   \n                                                              twicetagram                        0.0   \n\nmonth                                                                                          2209  \nproducer                              artist                  album                                  \nADOR                                  NewJeans                1st EP `New Jeans`            29419.0  \n                                                              1st EP `New Jeans` (Weverse)      0.0  \nAMBITION MUSIK, Daytona Entertainment 릴러말즈 (Leellamarz), TOIL TOYSTORY3                         0.0  \nAOMG                                  박재범                     1집 New Breed                      0.0  \n                                                              EVERYTHING YOU WANTED             0.0  \n...                                                                                             ...  \nJYP Entertainment                     TWICE                   Taste of Love                     0.0  \n                                                              The year of `YES`                 0.0  \n                                                              What is Love?                     0.0  \n                                                              YES or YES                        0.0  \n                                                              twicetagram                       0.0  \n\n[100 rows x 127 columns]",
      "text/html": "<div>\n<style scoped>\n    .dataframe tbody tr th:only-of-type {\n        vertical-align: middle;\n    }\n\n    .dataframe tbody tr th {\n        vertical-align: top;\n    }\n\n    .dataframe thead th {\n        text-align: right;\n    }\n</style>\n<table border=\"1\" class=\"dataframe\">\n  <thead>\n    <tr style=\"text-align: right;\">\n      <th></th>\n      <th></th>\n      <th>month</th>\n      <th>1202</th>\n      <th>1203</th>\n      <th>1204</th>\n      <th>1205</th>\n      <th>1206</th>\n      <th>1207</th>\n      <th>1208</th>\n      <th>1209</th>\n      <th>1210</th>\n      <th>1211</th>\n      <th>...</th>\n      <th>2112</th>\n      <th>2201</th>\n      <th>2202</th>\n      <th>2203</th>\n      <th>2204</th>\n      <th>2205</th>\n      <th>2206</th>\n      <th>2207</th>\n      <th>2208</th>\n      <th>2209</th>\n    </tr>\n    <tr>\n      <th>producer</th>\n      <th>artist</th>\n      <th>album</th>\n      <th></th>\n      <th></th>\n      <th></th>\n      <th></th>\n      <th></th>\n      <th></th>\n      <th></th>\n      <th></th>\n      <th></th>\n      <th></th>\n      <th></th>\n      <th></th>\n      <th></th>\n      <th></th>\n      <th></th>\n      <th></th>\n      <th></th>\n      <th></th>\n      <th></th>\n      <th></th>\n      <th></th>\n    </tr>\n  </thead>\n  <tbody>\n    <tr>\n      <th rowspan=\"2\" valign=\"top\">ADOR</th>\n      <th rowspan=\"2\" valign=\"top\">NewJeans</th>\n      <th>1st EP `New Jeans`</th>\n      <td>0.0</td>\n      <td>0.0</td>\n      <td>0.0</td>\n      <td>0.0</td>\n      <td>0.0</td>\n      <td>0.0</td>\n      <td>0.0</td>\n      <td>0.0</td>\n      <td>0.0</td>\n      <td>0.0</td>\n      <td>...</td>\n      <td>0.0</td>\n      <td>0.0</td>\n      <td>0.0</td>\n      <td>0.0</td>\n      <td>0.0</td>\n      <td>0.0</td>\n      <td>0.0</td>\n      <td>0.0</td>\n      <td>0.0</td>\n      <td>29419.0</td>\n    </tr>\n    <tr>\n      <th>1st EP `New Jeans` (Weverse)</th>\n      <td>0.0</td>\n      <td>0.0</td>\n      <td>0.0</td>\n      <td>0.0</td>\n      <td>0.0</td>\n      <td>0.0</td>\n      <td>0.0</td>\n      <td>0.0</td>\n      <td>0.0</td>\n      <td>0.0</td>\n      <td>...</td>\n      <td>0.0</td>\n      <td>0.0</td>\n      <td>0.0</td>\n      <td>0.0</td>\n      <td>0.0</td>\n      <td>0.0</td>\n      <td>0.0</td>\n      <td>0.0</td>\n      <td>135103.0</td>\n      <td>0.0</td>\n    </tr>\n    <tr>\n      <th>AMBITION MUSIK, Daytona Entertainment</th>\n      <th>릴러말즈 (Leellamarz), TOIL</th>\n      <th>TOYSTORY3</th>\n      <td>0.0</td>\n      <td>0.0</td>\n      <td>0.0</td>\n      <td>0.0</td>\n      <td>0.0</td>\n      <td>0.0</td>\n      <td>0.0</td>\n      <td>0.0</td>\n      <td>0.0</td>\n      <td>0.0</td>\n      <td>...</td>\n      <td>0.0</td>\n      <td>0.0</td>\n      <td>0.0</td>\n      <td>0.0</td>\n      <td>0.0</td>\n      <td>0.0</td>\n      <td>0.0</td>\n      <td>7313.0</td>\n      <td>0.0</td>\n      <td>0.0</td>\n    </tr>\n    <tr>\n      <th rowspan=\"2\" valign=\"top\">AOMG</th>\n      <th rowspan=\"2\" valign=\"top\">박재범</th>\n      <th>1집 New Breed</th>\n      <td>73841.0</td>\n      <td>0.0</td>\n      <td>0.0</td>\n      <td>0.0</td>\n      <td>0.0</td>\n      <td>0.0</td>\n      <td>0.0</td>\n      <td>0.0</td>\n      <td>0.0</td>\n      <td>0.0</td>\n      <td>...</td>\n      <td>0.0</td>\n      <td>0.0</td>\n      <td>0.0</td>\n      <td>0.0</td>\n      <td>0.0</td>\n      <td>0.0</td>\n      <td>0.0</td>\n      <td>0.0</td>\n      <td>0.0</td>\n      <td>0.0</td>\n    </tr>\n    <tr>\n      <th>EVERYTHING YOU WANTED</th>\n      <td>0.0</td>\n      <td>0.0</td>\n      <td>0.0</td>\n      <td>0.0</td>\n      <td>0.0</td>\n      <td>0.0</td>\n      <td>0.0</td>\n      <td>0.0</td>\n      <td>0.0</td>\n      <td>0.0</td>\n      <td>...</td>\n      <td>0.0</td>\n      <td>0.0</td>\n      <td>0.0</td>\n      <td>0.0</td>\n      <td>0.0</td>\n      <td>0.0</td>\n      <td>0.0</td>\n      <td>0.0</td>\n      <td>0.0</td>\n      <td>0.0</td>\n    </tr>\n    <tr>\n      <th>...</th>\n      <th>...</th>\n      <th>...</th>\n      <td>...</td>\n      <td>...</td>\n      <td>...</td>\n      <td>...</td>\n      <td>...</td>\n      <td>...</td>\n      <td>...</td>\n      <td>...</td>\n      <td>...</td>\n      <td>...</td>\n      <td>...</td>\n      <td>...</td>\n      <td>...</td>\n      <td>...</td>\n      <td>...</td>\n      <td>...</td>\n      <td>...</td>\n      <td>...</td>\n      <td>...</td>\n      <td>...</td>\n      <td>...</td>\n    </tr>\n    <tr>\n      <th rowspan=\"5\" valign=\"top\">JYP Entertainment</th>\n      <th rowspan=\"5\" valign=\"top\">TWICE</th>\n      <th>Taste of Love</th>\n      <td>0.0</td>\n      <td>0.0</td>\n      <td>0.0</td>\n      <td>0.0</td>\n      <td>0.0</td>\n      <td>0.0</td>\n      <td>0.0</td>\n      <td>0.0</td>\n      <td>0.0</td>\n      <td>0.0</td>\n      <td>...</td>\n      <td>0.0</td>\n      <td>0.0</td>\n      <td>0.0</td>\n      <td>0.0</td>\n      <td>0.0</td>\n      <td>0.0</td>\n      <td>0.0</td>\n      <td>0.0</td>\n      <td>0.0</td>\n      <td>0.0</td>\n    </tr>\n    <tr>\n      <th>The year of `YES`</th>\n      <td>0.0</td>\n      <td>0.0</td>\n      <td>0.0</td>\n      <td>0.0</td>\n      <td>0.0</td>\n      <td>0.0</td>\n      <td>0.0</td>\n      <td>0.0</td>\n      <td>0.0</td>\n      <td>0.0</td>\n      <td>...</td>\n      <td>0.0</td>\n      <td>0.0</td>\n      <td>0.0</td>\n      <td>0.0</td>\n      <td>0.0</td>\n      <td>0.0</td>\n      <td>0.0</td>\n      <td>0.0</td>\n      <td>0.0</td>\n      <td>0.0</td>\n    </tr>\n    <tr>\n      <th>What is Love?</th>\n      <td>0.0</td>\n      <td>0.0</td>\n      <td>0.0</td>\n      <td>0.0</td>\n      <td>0.0</td>\n      <td>0.0</td>\n      <td>0.0</td>\n      <td>0.0</td>\n      <td>0.0</td>\n      <td>0.0</td>\n      <td>...</td>\n      <td>0.0</td>\n      <td>0.0</td>\n      <td>0.0</td>\n      <td>0.0</td>\n      <td>0.0</td>\n      <td>0.0</td>\n      <td>25000.0</td>\n      <td>0.0</td>\n      <td>0.0</td>\n      <td>0.0</td>\n    </tr>\n    <tr>\n      <th>YES or YES</th>\n      <td>0.0</td>\n      <td>0.0</td>\n      <td>0.0</td>\n      <td>0.0</td>\n      <td>0.0</td>\n      <td>0.0</td>\n      <td>0.0</td>\n      <td>0.0</td>\n      <td>0.0</td>\n      <td>0.0</td>\n      <td>...</td>\n      <td>0.0</td>\n      <td>0.0</td>\n      <td>0.0</td>\n      <td>0.0</td>\n      <td>0.0</td>\n      <td>0.0</td>\n      <td>0.0</td>\n      <td>0.0</td>\n      <td>0.0</td>\n      <td>0.0</td>\n    </tr>\n    <tr>\n      <th>twicetagram</th>\n      <td>0.0</td>\n      <td>0.0</td>\n      <td>0.0</td>\n      <td>0.0</td>\n      <td>0.0</td>\n      <td>0.0</td>\n      <td>0.0</td>\n      <td>0.0</td>\n      <td>0.0</td>\n      <td>0.0</td>\n      <td>...</td>\n      <td>0.0</td>\n      <td>0.0</td>\n      <td>0.0</td>\n      <td>0.0</td>\n      <td>0.0</td>\n      <td>0.0</td>\n      <td>0.0</td>\n      <td>0.0</td>\n      <td>0.0</td>\n      <td>0.0</td>\n    </tr>\n  </tbody>\n</table>\n<p>100 rows × 127 columns</p>\n</div>"
     },
     "execution_count": 43,
     "metadata": {},
     "output_type": "execute_result"
    }
   ],
   "source": [
    "sales_table.head(20)"
   ],
   "metadata": {
    "collapsed": false
   }
  },
  {
   "cell_type": "code",
   "execution_count": 44,
   "metadata": {},
   "outputs": [],
   "source": [
    "data_frames = {\n",
    "    'cleanup': sales_table,\n",
    "    'sales_with_producer': new_sales,\n",
    "    'raw_sales': global_chart,\n",
    "    'raw_producer': album_chart,\n",
    "}\n",
    "# Create a Pandas Excel writer using XlsxWriter as the engine.\n",
    "with pd.ExcelWriter(OUTPUT_PATH, engine='xlsxwriter') as writer:\n",
    "    for sheet_name, data_frame in data_frames.items():\n",
    "        data_frame.to_excel(writer, sheet_name=sheet_name)"
   ]
  },
  {
   "cell_type": "code",
   "execution_count": 44,
   "outputs": [],
   "source": [],
   "metadata": {
    "collapsed": false
   }
  }
 ],
 "metadata": {
  "interpreter": {
   "hash": "0419e90ac108d8f9d333fa9dcbf07f141ef73f6d8cf2f9cb36000c0ad96fcde6"
  },
  "kernelspec": {
   "display_name": "Python 3.9.13 ('venv': venv)",
   "language": "python",
   "name": "python3"
  },
  "language_info": {
   "codemirror_mode": {
    "name": "ipython",
    "version": 3
   },
   "file_extension": ".py",
   "mimetype": "text/x-python",
   "name": "python",
   "nbconvert_exporter": "python",
   "pygments_lexer": "ipython3",
   "version": "3.9.13"
  },
  "orig_nbformat": 4
 },
 "nbformat": 4,
 "nbformat_minor": 2
}
